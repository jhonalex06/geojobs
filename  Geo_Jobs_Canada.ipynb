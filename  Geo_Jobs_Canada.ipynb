{
 "cells": [
  {
   "cell_type": "code",
   "execution_count": 30,
   "metadata": {},
   "outputs": [
    {
     "name": "stdout",
     "output_type": "stream",
     "text": [
      "Requirement already satisfied: bs4 in /home/shade/anaconda3/lib/python3.7/site-packages (0.0.1)\n",
      "Requirement already satisfied: beautifulsoup4 in /home/shade/anaconda3/lib/python3.7/site-packages (from bs4) (4.8.2)\n",
      "Requirement already satisfied: soupsieve>=1.2 in /home/shade/anaconda3/lib/python3.7/site-packages (from beautifulsoup4->bs4) (1.9.5)\n",
      "Requirement already satisfied: pandas in /home/shade/anaconda3/lib/python3.7/site-packages (1.0.1)\n",
      "Requirement already satisfied: numpy>=1.13.3 in /home/shade/anaconda3/lib/python3.7/site-packages (from pandas) (1.18.1)\n",
      "Requirement already satisfied: python-dateutil>=2.6.1 in /home/shade/anaconda3/lib/python3.7/site-packages (from pandas) (2.8.1)\n",
      "Requirement already satisfied: pytz>=2017.2 in /home/shade/anaconda3/lib/python3.7/site-packages (from pandas) (2019.3)\n",
      "Requirement already satisfied: six>=1.5 in /home/shade/anaconda3/lib/python3.7/site-packages (from python-dateutil>=2.6.1->pandas) (1.14.0)\n",
      "Requirement already satisfied: geopandas in /home/shade/anaconda3/lib/python3.7/site-packages (0.8.1)\n",
      "Requirement already satisfied: pyproj>=2.2.0 in /home/shade/anaconda3/lib/python3.7/site-packages (from geopandas) (2.6.1.post1)\n",
      "Requirement already satisfied: pandas>=0.23.0 in /home/shade/anaconda3/lib/python3.7/site-packages (from geopandas) (1.0.1)\n",
      "Requirement already satisfied: fiona in /home/shade/anaconda3/lib/python3.7/site-packages (from geopandas) (1.8.13.post1)\n",
      "Requirement already satisfied: shapely in /home/shade/anaconda3/lib/python3.7/site-packages (from geopandas) (1.7.0)\n",
      "Requirement already satisfied: pytz>=2017.2 in /home/shade/anaconda3/lib/python3.7/site-packages (from pandas>=0.23.0->geopandas) (2019.3)\n",
      "Requirement already satisfied: numpy>=1.13.3 in /home/shade/anaconda3/lib/python3.7/site-packages (from pandas>=0.23.0->geopandas) (1.18.1)\n",
      "Requirement already satisfied: python-dateutil>=2.6.1 in /home/shade/anaconda3/lib/python3.7/site-packages (from pandas>=0.23.0->geopandas) (2.8.1)\n",
      "Requirement already satisfied: munch in /home/shade/anaconda3/lib/python3.7/site-packages (from fiona->geopandas) (2.5.0)\n",
      "Requirement already satisfied: cligj>=0.5 in /home/shade/anaconda3/lib/python3.7/site-packages (from fiona->geopandas) (0.5.0)\n",
      "Requirement already satisfied: attrs>=17 in /home/shade/anaconda3/lib/python3.7/site-packages (from fiona->geopandas) (19.3.0)\n",
      "Requirement already satisfied: click<8,>=4.0 in /home/shade/anaconda3/lib/python3.7/site-packages (from fiona->geopandas) (7.0)\n",
      "Requirement already satisfied: click-plugins>=1.0 in /home/shade/anaconda3/lib/python3.7/site-packages (from fiona->geopandas) (1.1.1)\n",
      "Requirement already satisfied: six>=1.7 in /home/shade/anaconda3/lib/python3.7/site-packages (from fiona->geopandas) (1.14.0)\n",
      "Requirement already satisfied: matplotlib in /home/shade/anaconda3/lib/python3.7/site-packages (3.1.3)\n",
      "Requirement already satisfied: cycler>=0.10 in /home/shade/anaconda3/lib/python3.7/site-packages (from matplotlib) (0.10.0)\n",
      "Requirement already satisfied: pyparsing!=2.0.4,!=2.1.2,!=2.1.6,>=2.0.1 in /home/shade/anaconda3/lib/python3.7/site-packages (from matplotlib) (2.4.6)\n",
      "Requirement already satisfied: kiwisolver>=1.0.1 in /home/shade/anaconda3/lib/python3.7/site-packages (from matplotlib) (1.1.0)\n",
      "Requirement already satisfied: python-dateutil>=2.1 in /home/shade/anaconda3/lib/python3.7/site-packages (from matplotlib) (2.8.1)\n",
      "Requirement already satisfied: numpy>=1.11 in /home/shade/anaconda3/lib/python3.7/site-packages (from matplotlib) (1.18.1)\n",
      "Requirement already satisfied: six in /home/shade/anaconda3/lib/python3.7/site-packages (from cycler>=0.10->matplotlib) (1.14.0)\n",
      "Requirement already satisfied: setuptools in /home/shade/anaconda3/lib/python3.7/site-packages (from kiwisolver>=1.0.1->matplotlib) (45.2.0.post20200210)\n",
      "Requirement already satisfied: folium in /home/shade/anaconda3/lib/python3.7/site-packages (0.11.0)\n",
      "Requirement already satisfied: requests in /home/shade/anaconda3/lib/python3.7/site-packages (from folium) (2.25.1)\n",
      "Requirement already satisfied: branca>=0.3.0 in /home/shade/anaconda3/lib/python3.7/site-packages (from folium) (0.4.1)\n",
      "Requirement already satisfied: numpy in /home/shade/anaconda3/lib/python3.7/site-packages (from folium) (1.18.1)\n",
      "Requirement already satisfied: jinja2>=2.9 in /home/shade/anaconda3/lib/python3.7/site-packages (from folium) (2.11.1)\n",
      "Requirement already satisfied: urllib3<1.27,>=1.21.1 in /home/shade/anaconda3/lib/python3.7/site-packages (from requests->folium) (1.26.2)\n",
      "Requirement already satisfied: certifi>=2017.4.17 in /home/shade/anaconda3/lib/python3.7/site-packages (from requests->folium) (2019.11.28)\n",
      "Requirement already satisfied: chardet<5,>=3.0.2 in /home/shade/anaconda3/lib/python3.7/site-packages (from requests->folium) (3.0.4)\n",
      "Requirement already satisfied: idna<3,>=2.5 in /home/shade/anaconda3/lib/python3.7/site-packages (from requests->folium) (2.8)\n",
      "Requirement already satisfied: MarkupSafe>=0.23 in /home/shade/anaconda3/lib/python3.7/site-packages (from jinja2>=2.9->folium) (1.1.1)\n"
     ]
    }
   ],
   "source": [
    "!pip install bs4\n",
    "!pip install pandas\n",
    "!pip install geopandas\n",
    "!pip install matplotlib\n",
    "!pip install folium"
   ]
  },
  {
   "cell_type": "code",
   "execution_count": 31,
   "metadata": {},
   "outputs": [],
   "source": [
    "import requests\n",
    "from bs4 import BeautifulSoup\n",
    "import pandas as pd\n",
    "import time \n",
    "import geopandas as gpd\n",
    "import matplotlib.pyplot as plt\n",
    "import folium\n",
    "import os"
   ]
  },
  {
   "cell_type": "code",
   "execution_count": 32,
   "metadata": {},
   "outputs": [],
   "source": [
    "subject = 'junior data analyst'\n",
    "place = 'Canada'"
   ]
  },
  {
   "cell_type": "code",
   "execution_count": 33,
   "metadata": {},
   "outputs": [],
   "source": [
    "web_pages = 'https://ca.indeed.com/jobs?q={}&l={}&start={}'.format(subject, place, 0)\n",
    "req = requests.get(web_pages)\n",
    "soup = BeautifulSoup(req.text, \"html.parser\")"
   ]
  },
  {
   "cell_type": "code",
   "execution_count": 34,
   "metadata": {},
   "outputs": [],
   "source": [
    "actual_page = int(soup.find(id=\"searchCountPages\").text.split(' ')[soup.find(id=\"searchCountPages\").text.split(' ').index('Page')+1])\n",
    "total_pages = int(soup.find(id=\"searchCountPages\").text.split(' ')[soup.find(id=\"searchCountPages\").text.split(' ').index('Page')+3].replace(',',''))"
   ]
  },
  {
   "cell_type": "code",
   "execution_count": 35,
   "metadata": {},
   "outputs": [],
   "source": [
    "name = []\n",
    "company = []\n",
    "location = []"
   ]
  },
  {
   "cell_type": "code",
   "execution_count": 36,
   "metadata": {},
   "outputs": [
    {
     "data": {
      "text/plain": [
       "41"
      ]
     },
     "execution_count": 36,
     "metadata": {},
     "output_type": "execute_result"
    }
   ],
   "source": [
    "total_pages"
   ]
  },
  {
   "cell_type": "code",
   "execution_count": 37,
   "metadata": {},
   "outputs": [
    {
     "name": "stdout",
     "output_type": "stream",
     "text": [
      "Page 1\n",
      "Page 2\n",
      "Page 3\n",
      "Page 4\n",
      "Page 5\n",
      "Page 6\n",
      "Page 7\n",
      "Page 8\n",
      "Page 9\n",
      "Page 10\n",
      "Page 11\n",
      "Page 12\n",
      "Page 13\n",
      "Page 14\n",
      "Page 15\n",
      "Page 16\n",
      "Page 17\n",
      "Page 18\n",
      "Page 19\n",
      "Page 20\n",
      "Page 21\n",
      "Page 22\n",
      "Page 23\n",
      "Page 24\n",
      "Page 25\n",
      "Page 26\n",
      "Page 27\n",
      "Page 28\n",
      "Page 29\n",
      "Page 30\n",
      "Page 31\n",
      "Page 32\n",
      "Page 33\n",
      "Page 34\n",
      "Page 35\n",
      "Page 36\n",
      "Page 37\n",
      "Page 38\n",
      "Page 39\n",
      "Page 40\n",
      "Page 41\n"
     ]
    }
   ],
   "source": [
    "for i in range(total_pages):\n",
    "    print('Page {}'.format(i+1))\n",
    "    if i%10 == 0:\n",
    "        time.sleep(5)\n",
    "    link_offers = 'https://ca.indeed.com/jobs?q={}&l={}&start={}'.format(subject, place, i*10)\n",
    "    req = requests.get(link_offers)\n",
    "    soup = BeautifulSoup(req.text, \"html.parser\")\n",
    "    \n",
    "    for job_offer in soup.find_all(\"div\", \"jobsearch-SerpJobCard unifiedRow row result\"):\n",
    "        name.append(job_offer.a['title'])\n",
    "        company.append(job_offer.find('span','company').text.strip())\n",
    "        try:\n",
    "            location.append(job_offer.find('span','location accessible-contrast-color-location').text.strip())\n",
    "        except:\n",
    "            location.append(job_offer.find('span','remote').text.strip())"
   ]
  },
  {
   "cell_type": "code",
   "execution_count": 38,
   "metadata": {},
   "outputs": [],
   "source": [
    "df = pd.DataFrame(data=zip(name, company, location), columns=[\"Name\", \"Company\", 'Location'])"
   ]
  },
  {
   "cell_type": "code",
   "execution_count": 39,
   "metadata": {},
   "outputs": [
    {
     "data": {
      "text/html": [
       "<div>\n",
       "<style scoped>\n",
       "    .dataframe tbody tr th:only-of-type {\n",
       "        vertical-align: middle;\n",
       "    }\n",
       "\n",
       "    .dataframe tbody tr th {\n",
       "        vertical-align: top;\n",
       "    }\n",
       "\n",
       "    .dataframe thead th {\n",
       "        text-align: right;\n",
       "    }\n",
       "</style>\n",
       "<table border=\"1\" class=\"dataframe\">\n",
       "  <thead>\n",
       "    <tr style=\"text-align: right;\">\n",
       "      <th></th>\n",
       "      <th>Name</th>\n",
       "      <th>Company</th>\n",
       "      <th>Location</th>\n",
       "    </tr>\n",
       "  </thead>\n",
       "  <tbody>\n",
       "    <tr>\n",
       "      <th>0</th>\n",
       "      <td>Junior IT Business Analyst</td>\n",
       "      <td>Federated Co-operatives Limited</td>\n",
       "      <td>Saskatoon, SK</td>\n",
       "    </tr>\n",
       "    <tr>\n",
       "      <th>1</th>\n",
       "      <td>Junior Data Analyst - Relational/SQL Data Bases</td>\n",
       "      <td>GHD</td>\n",
       "      <td>Waterloo, ON</td>\n",
       "    </tr>\n",
       "    <tr>\n",
       "      <th>2</th>\n",
       "      <td>Junior Data Analyst</td>\n",
       "      <td>University of Waterloo</td>\n",
       "      <td>Waterloo, ON</td>\n",
       "    </tr>\n",
       "    <tr>\n",
       "      <th>3</th>\n",
       "      <td>Junior Business Analyst</td>\n",
       "      <td>Simon Fraser University</td>\n",
       "      <td>Vancouver, BC</td>\n",
       "    </tr>\n",
       "    <tr>\n",
       "      <th>4</th>\n",
       "      <td>Junior Analyst / Product Developer</td>\n",
       "      <td>Sensor Technologies</td>\n",
       "      <td>Oakville, ON</td>\n",
       "    </tr>\n",
       "    <tr>\n",
       "      <th>...</th>\n",
       "      <td>...</td>\n",
       "      <td>...</td>\n",
       "      <td>...</td>\n",
       "    </tr>\n",
       "    <tr>\n",
       "      <th>587</th>\n",
       "      <td>Junior Data Analyst</td>\n",
       "      <td>Ayima</td>\n",
       "      <td>Vancouver, BC</td>\n",
       "    </tr>\n",
       "    <tr>\n",
       "      <th>588</th>\n",
       "      <td>BI Developer (Contract)</td>\n",
       "      <td>Upper Canada Forest Products</td>\n",
       "      <td>Mississauga, ON</td>\n",
       "    </tr>\n",
       "    <tr>\n",
       "      <th>589</th>\n",
       "      <td>Jr. Business Analyst, Inventory Control</td>\n",
       "      <td>Toronto Research Chemicals Inc.</td>\n",
       "      <td>Toronto, ON</td>\n",
       "    </tr>\n",
       "    <tr>\n",
       "      <th>590</th>\n",
       "      <td>Jr. Business &amp; Systems Integration Analyst (We...</td>\n",
       "      <td>Plexxis Software</td>\n",
       "      <td>Victoria, BC</td>\n",
       "    </tr>\n",
       "    <tr>\n",
       "      <th>591</th>\n",
       "      <td>Jr. Business Analyst</td>\n",
       "      <td>Alsafa Foods Canada</td>\n",
       "      <td>Mississauga, ON</td>\n",
       "    </tr>\n",
       "  </tbody>\n",
       "</table>\n",
       "<p>592 rows × 3 columns</p>\n",
       "</div>"
      ],
      "text/plain": [
       "                                                  Name  \\\n",
       "0                           Junior IT Business Analyst   \n",
       "1      Junior Data Analyst - Relational/SQL Data Bases   \n",
       "2                                  Junior Data Analyst   \n",
       "3                              Junior Business Analyst   \n",
       "4                   Junior Analyst / Product Developer   \n",
       "..                                                 ...   \n",
       "587                                Junior Data Analyst   \n",
       "588                            BI Developer (Contract)   \n",
       "589            Jr. Business Analyst, Inventory Control   \n",
       "590  Jr. Business & Systems Integration Analyst (We...   \n",
       "591                               Jr. Business Analyst   \n",
       "\n",
       "                             Company         Location  \n",
       "0    Federated Co-operatives Limited    Saskatoon, SK  \n",
       "1                                GHD     Waterloo, ON  \n",
       "2             University of Waterloo     Waterloo, ON  \n",
       "3            Simon Fraser University    Vancouver, BC  \n",
       "4                Sensor Technologies     Oakville, ON  \n",
       "..                               ...              ...  \n",
       "587                            Ayima    Vancouver, BC  \n",
       "588     Upper Canada Forest Products  Mississauga, ON  \n",
       "589  Toronto Research Chemicals Inc.      Toronto, ON  \n",
       "590                 Plexxis Software     Victoria, BC  \n",
       "591              Alsafa Foods Canada  Mississauga, ON  \n",
       "\n",
       "[592 rows x 3 columns]"
      ]
     },
     "execution_count": 39,
     "metadata": {},
     "output_type": "execute_result"
    }
   ],
   "source": [
    "df"
   ]
  },
  {
   "cell_type": "code",
   "execution_count": 40,
   "metadata": {},
   "outputs": [
    {
     "data": {
      "text/plain": [
       "{'Toronto, ON': 117,\n",
       " 'Vancouver, BC': 117,\n",
       " 'Edmonton, AB': 81,\n",
       " 'Mississauga, ON': 79,\n",
       " 'Montréal, QC': 61,\n",
       " 'Victoria, BC': 39,\n",
       " 'Remote': 39,\n",
       " 'Calgary, AB': 37,\n",
       " 'Winnipeg, MB': 11,\n",
       " 'London, ON': 2,\n",
       " 'Hamilton, ON': 2,\n",
       " 'Waterloo, ON': 2,\n",
       " 'Mont-Saint-Hilaire, QC': 1,\n",
       " 'Burnaby, BC': 1,\n",
       " 'Halifax, NS': 1,\n",
       " 'Oakville, ON': 1,\n",
       " 'Saskatoon, SK': 1}"
      ]
     },
     "execution_count": 40,
     "metadata": {},
     "output_type": "execute_result"
    }
   ],
   "source": [
    "df.Location.value_counts().to_dict()"
   ]
  },
  {
   "cell_type": "code",
   "execution_count": 41,
   "metadata": {},
   "outputs": [],
   "source": [
    "df['Province'] = df.Location.apply(lambda x: x.split(', ')[1] if len(x.split(', ')) > 1 else 'No data')"
   ]
  },
  {
   "cell_type": "code",
   "execution_count": 42,
   "metadata": {},
   "outputs": [],
   "source": [
    "count_provinces = df.Province.value_counts().to_dict()"
   ]
  },
  {
   "cell_type": "code",
   "execution_count": 43,
   "metadata": {},
   "outputs": [],
   "source": [
    "provinces = gpd.read_file(os.path.join(current_dir, 'Data/lpr_000b16a_e/lpr_000b16a_e.shp'))    "
   ]
  },
  {
   "cell_type": "code",
   "execution_count": 44,
   "metadata": {},
   "outputs": [],
   "source": [
    "provinces['prefix'] = ['NL','PEI','NS','NB','QC','ON','MB','SK','AB','BC','YK','NWT','NT']"
   ]
  },
  {
   "cell_type": "code",
   "execution_count": 45,
   "metadata": {},
   "outputs": [],
   "source": [
    "provinces['Frecuency'] = provinces['prefix'].apply(lambda x: count_provinces[x] if x in count_provinces.keys() else 0)"
   ]
  },
  {
   "cell_type": "code",
   "execution_count": 46,
   "metadata": {},
   "outputs": [
    {
     "data": {
      "text/html": [
       "<div>\n",
       "<style scoped>\n",
       "    .dataframe tbody tr th:only-of-type {\n",
       "        vertical-align: middle;\n",
       "    }\n",
       "\n",
       "    .dataframe tbody tr th {\n",
       "        vertical-align: top;\n",
       "    }\n",
       "\n",
       "    .dataframe thead th {\n",
       "        text-align: right;\n",
       "    }\n",
       "</style>\n",
       "<table border=\"1\" class=\"dataframe\">\n",
       "  <thead>\n",
       "    <tr style=\"text-align: right;\">\n",
       "      <th></th>\n",
       "      <th>PRUID</th>\n",
       "      <th>PRNAME</th>\n",
       "      <th>PRENAME</th>\n",
       "      <th>PRFNAME</th>\n",
       "      <th>PREABBR</th>\n",
       "      <th>PRFABBR</th>\n",
       "      <th>geometry</th>\n",
       "      <th>prefix</th>\n",
       "      <th>Frecuency</th>\n",
       "    </tr>\n",
       "  </thead>\n",
       "  <tbody>\n",
       "    <tr>\n",
       "      <th>0</th>\n",
       "      <td>10</td>\n",
       "      <td>Newfoundland and Labrador / Terre-Neuve-et-Lab...</td>\n",
       "      <td>Newfoundland and Labrador</td>\n",
       "      <td>Terre-Neuve-et-Labrador</td>\n",
       "      <td>N.L.</td>\n",
       "      <td>T.-N.-L.</td>\n",
       "      <td>MULTIPOLYGON (((8307365.589 2582136.711, 83083...</td>\n",
       "      <td>NL</td>\n",
       "      <td>0</td>\n",
       "    </tr>\n",
       "    <tr>\n",
       "      <th>1</th>\n",
       "      <td>11</td>\n",
       "      <td>Prince Edward Island / Île-du-Prince-Édouard</td>\n",
       "      <td>Prince Edward Island</td>\n",
       "      <td>Île-du-Prince-Édouard</td>\n",
       "      <td>P.E.I.</td>\n",
       "      <td>Î.-P.-É.</td>\n",
       "      <td>MULTIPOLYGON (((8435711.754 1679935.966, 84358...</td>\n",
       "      <td>PEI</td>\n",
       "      <td>0</td>\n",
       "    </tr>\n",
       "    <tr>\n",
       "      <th>2</th>\n",
       "      <td>12</td>\n",
       "      <td>Nova Scotia / Nouvelle-Écosse</td>\n",
       "      <td>Nova Scotia</td>\n",
       "      <td>Nouvelle-Écosse</td>\n",
       "      <td>N.S.</td>\n",
       "      <td>N.-É.</td>\n",
       "      <td>MULTIPOLYGON (((8470851.646 1624745.011, 84710...</td>\n",
       "      <td>NS</td>\n",
       "      <td>1</td>\n",
       "    </tr>\n",
       "    <tr>\n",
       "      <th>3</th>\n",
       "      <td>13</td>\n",
       "      <td>New Brunswick / Nouveau-Brunswick</td>\n",
       "      <td>New Brunswick</td>\n",
       "      <td>Nouveau-Brunswick</td>\n",
       "      <td>N.B.</td>\n",
       "      <td>N.-B.</td>\n",
       "      <td>MULTIPOLYGON (((8176224.537 1722553.460, 81762...</td>\n",
       "      <td>NB</td>\n",
       "      <td>0</td>\n",
       "    </tr>\n",
       "    <tr>\n",
       "      <th>4</th>\n",
       "      <td>24</td>\n",
       "      <td>Quebec / Québec</td>\n",
       "      <td>Quebec</td>\n",
       "      <td>Québec</td>\n",
       "      <td>Que.</td>\n",
       "      <td>Qc</td>\n",
       "      <td>MULTIPOLYGON (((8399709.494 2261445.703, 84005...</td>\n",
       "      <td>QC</td>\n",
       "      <td>62</td>\n",
       "    </tr>\n",
       "    <tr>\n",
       "      <th>5</th>\n",
       "      <td>35</td>\n",
       "      <td>Ontario</td>\n",
       "      <td>Ontario</td>\n",
       "      <td>Ontario</td>\n",
       "      <td>Ont.</td>\n",
       "      <td>Ont.</td>\n",
       "      <td>MULTIPOLYGON (((6378815.614 2295412.440, 63787...</td>\n",
       "      <td>ON</td>\n",
       "      <td>203</td>\n",
       "    </tr>\n",
       "    <tr>\n",
       "      <th>6</th>\n",
       "      <td>46</td>\n",
       "      <td>Manitoba</td>\n",
       "      <td>Manitoba</td>\n",
       "      <td>Manitoba</td>\n",
       "      <td>Man.</td>\n",
       "      <td>Man.</td>\n",
       "      <td>MULTIPOLYGON (((6039656.509 2636304.343, 60396...</td>\n",
       "      <td>MB</td>\n",
       "      <td>11</td>\n",
       "    </tr>\n",
       "    <tr>\n",
       "      <th>7</th>\n",
       "      <td>47</td>\n",
       "      <td>Saskatchewan</td>\n",
       "      <td>Saskatchewan</td>\n",
       "      <td>Saskatchewan</td>\n",
       "      <td>Sask.</td>\n",
       "      <td>Sask.</td>\n",
       "      <td>POLYGON ((5248633.914 2767057.263, 5249285.640...</td>\n",
       "      <td>SK</td>\n",
       "      <td>1</td>\n",
       "    </tr>\n",
       "    <tr>\n",
       "      <th>8</th>\n",
       "      <td>48</td>\n",
       "      <td>Alberta</td>\n",
       "      <td>Alberta</td>\n",
       "      <td>Alberta</td>\n",
       "      <td>Alta.</td>\n",
       "      <td>Alb.</td>\n",
       "      <td>POLYGON ((5228304.177 2767597.891, 5228098.463...</td>\n",
       "      <td>AB</td>\n",
       "      <td>118</td>\n",
       "    </tr>\n",
       "    <tr>\n",
       "      <th>9</th>\n",
       "      <td>59</td>\n",
       "      <td>British Columbia / Colombie-Britannique</td>\n",
       "      <td>British Columbia</td>\n",
       "      <td>Colombie-Britannique</td>\n",
       "      <td>B.C.</td>\n",
       "      <td>C.-B.</td>\n",
       "      <td>MULTIPOLYGON (((4018904.414 3410247.271, 40194...</td>\n",
       "      <td>BC</td>\n",
       "      <td>157</td>\n",
       "    </tr>\n",
       "    <tr>\n",
       "      <th>10</th>\n",
       "      <td>60</td>\n",
       "      <td>Yukon</td>\n",
       "      <td>Yukon</td>\n",
       "      <td>Yukon</td>\n",
       "      <td>Y.T.</td>\n",
       "      <td>Yn</td>\n",
       "      <td>MULTIPOLYGON (((4593284.320 4180399.606, 45933...</td>\n",
       "      <td>YK</td>\n",
       "      <td>0</td>\n",
       "    </tr>\n",
       "    <tr>\n",
       "      <th>11</th>\n",
       "      <td>61</td>\n",
       "      <td>Northwest Territories / Territoires du Nord-Ouest</td>\n",
       "      <td>Northwest Territories</td>\n",
       "      <td>Territoires du Nord-Ouest</td>\n",
       "      <td>N.W.T.</td>\n",
       "      <td>T.N.-O.</td>\n",
       "      <td>MULTIPOLYGON (((4709778.780 4202808.109, 47096...</td>\n",
       "      <td>NWT</td>\n",
       "      <td>0</td>\n",
       "    </tr>\n",
       "    <tr>\n",
       "      <th>12</th>\n",
       "      <td>62</td>\n",
       "      <td>Nunavut</td>\n",
       "      <td>Nunavut</td>\n",
       "      <td>Nunavut</td>\n",
       "      <td>Nvt.</td>\n",
       "      <td>Nt</td>\n",
       "      <td>MULTIPOLYGON (((6105932.626 3935743.411, 61062...</td>\n",
       "      <td>NT</td>\n",
       "      <td>0</td>\n",
       "    </tr>\n",
       "  </tbody>\n",
       "</table>\n",
       "</div>"
      ],
      "text/plain": [
       "   PRUID                                             PRNAME  \\\n",
       "0     10  Newfoundland and Labrador / Terre-Neuve-et-Lab...   \n",
       "1     11       Prince Edward Island / Île-du-Prince-Édouard   \n",
       "2     12                      Nova Scotia / Nouvelle-Écosse   \n",
       "3     13                  New Brunswick / Nouveau-Brunswick   \n",
       "4     24                                    Quebec / Québec   \n",
       "5     35                                            Ontario   \n",
       "6     46                                           Manitoba   \n",
       "7     47                                       Saskatchewan   \n",
       "8     48                                            Alberta   \n",
       "9     59            British Columbia / Colombie-Britannique   \n",
       "10    60                                              Yukon   \n",
       "11    61  Northwest Territories / Territoires du Nord-Ouest   \n",
       "12    62                                            Nunavut   \n",
       "\n",
       "                      PRENAME                    PRFNAME PREABBR   PRFABBR  \\\n",
       "0   Newfoundland and Labrador    Terre-Neuve-et-Labrador    N.L.  T.-N.-L.   \n",
       "1        Prince Edward Island      Île-du-Prince-Édouard  P.E.I.  Î.-P.-É.   \n",
       "2                 Nova Scotia            Nouvelle-Écosse    N.S.     N.-É.   \n",
       "3               New Brunswick          Nouveau-Brunswick    N.B.     N.-B.   \n",
       "4                      Quebec                     Québec    Que.        Qc   \n",
       "5                     Ontario                    Ontario    Ont.      Ont.   \n",
       "6                    Manitoba                   Manitoba    Man.      Man.   \n",
       "7                Saskatchewan               Saskatchewan   Sask.     Sask.   \n",
       "8                     Alberta                    Alberta   Alta.      Alb.   \n",
       "9            British Columbia       Colombie-Britannique    B.C.     C.-B.   \n",
       "10                      Yukon                      Yukon    Y.T.        Yn   \n",
       "11      Northwest Territories  Territoires du Nord-Ouest  N.W.T.   T.N.-O.   \n",
       "12                    Nunavut                    Nunavut    Nvt.        Nt   \n",
       "\n",
       "                                             geometry prefix  Frecuency  \n",
       "0   MULTIPOLYGON (((8307365.589 2582136.711, 83083...     NL          0  \n",
       "1   MULTIPOLYGON (((8435711.754 1679935.966, 84358...    PEI          0  \n",
       "2   MULTIPOLYGON (((8470851.646 1624745.011, 84710...     NS          1  \n",
       "3   MULTIPOLYGON (((8176224.537 1722553.460, 81762...     NB          0  \n",
       "4   MULTIPOLYGON (((8399709.494 2261445.703, 84005...     QC         62  \n",
       "5   MULTIPOLYGON (((6378815.614 2295412.440, 63787...     ON        203  \n",
       "6   MULTIPOLYGON (((6039656.509 2636304.343, 60396...     MB         11  \n",
       "7   POLYGON ((5248633.914 2767057.263, 5249285.640...     SK          1  \n",
       "8   POLYGON ((5228304.177 2767597.891, 5228098.463...     AB        118  \n",
       "9   MULTIPOLYGON (((4018904.414 3410247.271, 40194...     BC        157  \n",
       "10  MULTIPOLYGON (((4593284.320 4180399.606, 45933...     YK          0  \n",
       "11  MULTIPOLYGON (((4709778.780 4202808.109, 47096...    NWT          0  \n",
       "12  MULTIPOLYGON (((6105932.626 3935743.411, 61062...     NT          0  "
      ]
     },
     "execution_count": 46,
     "metadata": {},
     "output_type": "execute_result"
    }
   ],
   "source": [
    "provinces"
   ]
  },
  {
   "cell_type": "code",
   "execution_count": 47,
   "metadata": {},
   "outputs": [
    {
     "data": {
      "text/plain": [
       "<matplotlib.axes._subplots.AxesSubplot at 0x7f02626c0e50>"
      ]
     },
     "execution_count": 47,
     "metadata": {},
     "output_type": "execute_result"
    },
    {
     "data": {
      "image/png": "[encoded data removed]",
      "text/plain": [
       "<Figure size 720x720 with 2 Axes>"
      ]
     },
     "metadata": {
      "needs_background": "light"
     },
     "output_type": "display_data"
    }
   ],
   "source": [
    "# Control del tamaño de la figura del mapa\n",
    "fig, ax = plt.subplots(figsize=(10, 10))\n",
    " \n",
    "# Control del título y los ejes\n",
    "ax.set_title('Frecuencia de trabajos en {} en las provincias de Canada'.format(subject), \n",
    "             pad = 20, \n",
    "             fontdict={'fontsize':20, 'color': '#4873ab'})\n",
    "ax.set_xlabel('Longitud')\n",
    "ax.set_ylabel('Latitud')\n",
    " \n",
    "# Mostrar el mapa finalizado\n",
    "provinces.plot(column='Frecuency', cmap='viridis', ax=ax, zorder=5, legend=True, \n",
    "               legend_kwds={'label': \"Population by Country\",\n",
    "                            'orientation': \"horizontal\"})"
   ]
  },
  {
   "cell_type": "code",
   "execution_count": 48,
   "metadata": {},
   "outputs": [
    {
     "data": {
      "text/plain": [
       "\"m = folium.Map(location=[58, -102], zoom_start=3)\\n\\nfolium.Choropleth(\\n    geo_data=provinces,\\n    name='choropleth',\\n    data=provinces,\\n    columns=['prefix', 'Frecuency'],\\n    key_on='feature.properties.prefix',\\n    fill_color='YlOrRd',\\n    fill_opacity=0.7,\\n    line_opacity=0.2,\\n    legend_name='Geomatics job offering'\\n).add_to(m)\\n\\nfolium.LayerControl().add_to(m)\\n\\nm\""
      ]
     },
     "execution_count": 48,
     "metadata": {},
     "output_type": "execute_result"
    }
   ],
   "source": [
    "\"\"\"m = folium.Map(location=[58, -102], zoom_start=3)\n",
    "\n",
    "folium.Choropleth(\n",
    "    geo_data=provinces,\n",
    "    name='choropleth',\n",
    "    data=provinces,\n",
    "    columns=['prefix', 'Frecuency'],\n",
    "    key_on='feature.properties.prefix',\n",
    "    fill_color='YlOrRd',\n",
    "    fill_opacity=0.7,\n",
    "    line_opacity=0.2,\n",
    "    legend_name='Geomatics job offering'\n",
    ").add_to(m)\n",
    "\n",
    "folium.LayerControl().add_to(m)\n",
    "\n",
    "m\"\"\""
   ]
  }
 ],
 "metadata": {
  "kernelspec": {
   "display_name": "Python 3",
   "language": "python",
   "name": "python3"
  },
  "language_info": {
   "codemirror_mode": {
    "name": "ipython",
    "version": 3
   },
   "file_extension": ".py",
   "mimetype": "text/x-python",
   "name": "python",
   "nbconvert_exporter": "python",
   "pygments_lexer": "ipython3",
   "version": "3.7.6"
  }
 },
 "nbformat": 4,
 "nbformat_minor": 4
}
